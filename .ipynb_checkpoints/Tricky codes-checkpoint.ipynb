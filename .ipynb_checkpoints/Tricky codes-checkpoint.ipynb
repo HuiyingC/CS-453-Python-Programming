{
 "cells": [
  {
   "cell_type": "markdown",
   "metadata": {},
   "source": [
    "Caculate the number of carpet squares(integer) needed to cover the floor of the room. Each carpet square is 2 feet by 2 feet"
   ]
  },
  {
   "cell_type": "code",
   "execution_count": null,
   "metadata": {},
   "outputs": [],
   "source": [
    "import math\n",
    "squares = math.ceil(length/2) * math.ceil(width/2)"
   ]
  },
  {
   "cell_type": "markdown",
   "metadata": {},
   "source": [
    " display a histogram (vertical) with each * representing 10"
   ]
  },
  {
   "cell_type": "code",
   "execution_count": null,
   "metadata": {},
   "outputs": [],
   "source": [
    "import random\n",
    "\n",
    "# point: use list to store results\n",
    "count = [0, 0, 0, 0, 0, 0, 0, 0, 0, 0, 0, 0, 0]\n",
    "\n",
    "for i in range(0, 1000):\n",
    "    number1 = random.randint(1,6)\n",
    "    number2 = random.randint(1,6)\n",
    "    sum = number1 + number2\n",
    "    count[sum] += 1\n",
    "    \n",
    "print(\"Frequencies:\")\n",
    "for i in range(2,13):\n",
    "    print(\"%2d : %3d\" % (i,count[i]))\n",
    "    \n",
    "#vertical\n",
    "for i in range( max(count) // 10, 0, -1 ): \n",
    "#across\n",
    "    for n in range (2, 13):\n",
    "        if count[n] >= i * 10:\n",
    "            print(\"  *\", sep='', end='')\n",
    "        else:\n",
    "            print(\"   \", sep='', end='')\n",
    "    print()\n",
    "\n",
    "for i in range(2, 13):\n",
    "    print(\"%3d\" % (i), sep='', end='')\n",
    "    \n",
    "print()"
   ]
  },
  {
   "cell_type": "markdown",
   "metadata": {},
   "source": [
    "Run-time error for overflow list index"
   ]
  },
  {
   "cell_type": "code",
   "execution_count": null,
   "metadata": {},
   "outputs": [],
   "source": [
    "list = [1,2,3,5,22]\n",
    "print(list[10])\n",
    "#>>run-time error"
   ]
  },
  {
   "cell_type": "markdown",
   "metadata": {},
   "source": [
    "print string does not contain ''"
   ]
  },
  {
   "cell_type": "code",
   "execution_count": null,
   "metadata": {},
   "outputs": [],
   "source": [
    "print('string') \n",
    "#>>string"
   ]
  }
 ],
 "metadata": {
  "kernelspec": {
   "display_name": "Python 3",
   "language": "python",
   "name": "python3"
  },
  "language_info": {
   "codemirror_mode": {
    "name": "ipython",
    "version": 3
   },
   "file_extension": ".py",
   "mimetype": "text/x-python",
   "name": "python",
   "nbconvert_exporter": "python",
   "pygments_lexer": "ipython3",
   "version": "3.7.3"
  }
 },
 "nbformat": 4,
 "nbformat_minor": 2
}
